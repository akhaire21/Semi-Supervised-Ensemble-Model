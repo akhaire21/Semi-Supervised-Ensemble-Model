{
  "nbformat": 4,
  "nbformat_minor": 0,
  "metadata": {
    "colab": {
      "provenance": [],
      "machine_shape": "hm",
      "authorship_tag": "ABX9TyOHzcTuqw360FmERGNIosJh",
      "include_colab_link": true
    },
    "kernelspec": {
      "name": "python3",
      "display_name": "Python 3"
    },
    "language_info": {
      "name": "python"
    },
    "gpuClass": "standard"
  },
  "cells": [
    {
      "cell_type": "markdown",
      "metadata": {
        "id": "view-in-github",
        "colab_type": "text"
      },
      "source": [
        "<a href=\"https://colab.research.google.com/github/akhaire21/Semi-Supervised-Ensemble-Model/blob/main/Microglia_AD_Research_DeepGWAS_DataPrep_FinalVersion.ipynb\" target=\"_parent\"><img src=\"https://colab.research.google.com/assets/colab-badge.svg\" alt=\"Open In Colab\"/></a>"
      ]
    },
    {
      "cell_type": "code",
      "execution_count": 1,
      "metadata": {
        "colab": {
          "base_uri": "https://localhost:8080/"
        },
        "id": "TZhOetvj7Ux3",
        "outputId": "ec9c8158-e90e-4f01-e01d-80477572a8a4"
      },
      "outputs": [
        {
          "output_type": "stream",
          "name": "stdout",
          "text": [
            "Drive already mounted at /content/drive/; to attempt to forcibly remount, call drive.mount(\"/content/drive/\", force_remount=True).\n"
          ]
        }
      ],
      "source": [
        "from google.colab import drive\n",
        "drive = drive.mount('/content/drive/')"
      ]
    },
    {
      "cell_type": "code",
      "source": [
        "# Start R session\n",
        "%reload_ext rpy2.ipython"
      ],
      "metadata": {
        "id": "Y08slt-H92P7"
      },
      "execution_count": 2,
      "outputs": []
    },
    {
      "cell_type": "code",
      "source": [
        "%%R\n",
        "# Install required R packages\n",
        "install.packages('R.utils')\n",
        "install.packages('sqldf')"
      ],
      "metadata": {
        "colab": {
          "base_uri": "https://localhost:8080/"
        },
        "id": "BC2g_Iaa98Wl",
        "outputId": "5dd56922-531f-4eda-89bb-969daa9c1dc8"
      },
      "execution_count": 3,
      "outputs": [
        {
          "output_type": "stream",
          "name": "stderr",
          "text": [
            "WARNING:rpy2.rinterface_lib.callbacks:R[write to console]: Installing package into ‘/usr/local/lib/R/site-library’\n",
            "(as ‘lib’ is unspecified)\n",
            "\n",
            "WARNING:rpy2.rinterface_lib.callbacks:R[write to console]: trying URL 'https://cran.rstudio.com/src/contrib/R.utils_2.12.0.tar.gz'\n",
            "\n",
            "WARNING:rpy2.rinterface_lib.callbacks:R[write to console]: Content type 'application/x-gzip'\n",
            "WARNING:rpy2.rinterface_lib.callbacks:R[write to console]:  length 363986 bytes (355 KB)\n",
            "\n",
            "WARNING:rpy2.rinterface_lib.callbacks:R[write to console]: =\n",
            "WARNING:rpy2.rinterface_lib.callbacks:R[write to console]: =\n",
            "WARNING:rpy2.rinterface_lib.callbacks:R[write to console]: =\n",
            "WARNING:rpy2.rinterface_lib.callbacks:R[write to console]: =\n",
            "WARNING:rpy2.rinterface_lib.callbacks:R[write to console]: =\n",
            "WARNING:rpy2.rinterface_lib.callbacks:R[write to console]: =\n",
            "WARNING:rpy2.rinterface_lib.callbacks:R[write to console]: =\n",
            "WARNING:rpy2.rinterface_lib.callbacks:R[write to console]: =\n",
            "WARNING:rpy2.rinterface_lib.callbacks:R[write to console]: =\n",
            "WARNING:rpy2.rinterface_lib.callbacks:R[write to console]: =\n",
            "WARNING:rpy2.rinterface_lib.callbacks:R[write to console]: =\n",
            "WARNING:rpy2.rinterface_lib.callbacks:R[write to console]: =\n",
            "WARNING:rpy2.rinterface_lib.callbacks:R[write to console]: =\n",
            "WARNING:rpy2.rinterface_lib.callbacks:R[write to console]: =\n",
            "WARNING:rpy2.rinterface_lib.callbacks:R[write to console]: =\n",
            "WARNING:rpy2.rinterface_lib.callbacks:R[write to console]: =\n",
            "WARNING:rpy2.rinterface_lib.callbacks:R[write to console]: =\n",
            "WARNING:rpy2.rinterface_lib.callbacks:R[write to console]: =\n",
            "WARNING:rpy2.rinterface_lib.callbacks:R[write to console]: =\n",
            "WARNING:rpy2.rinterface_lib.callbacks:R[write to console]: =\n",
            "WARNING:rpy2.rinterface_lib.callbacks:R[write to console]: =\n",
            "WARNING:rpy2.rinterface_lib.callbacks:R[write to console]: =\n",
            "WARNING:rpy2.rinterface_lib.callbacks:R[write to console]: =\n",
            "WARNING:rpy2.rinterface_lib.callbacks:R[write to console]: =\n",
            "WARNING:rpy2.rinterface_lib.callbacks:R[write to console]: =\n",
            "WARNING:rpy2.rinterface_lib.callbacks:R[write to console]: =\n",
            "WARNING:rpy2.rinterface_lib.callbacks:R[write to console]: =\n",
            "WARNING:rpy2.rinterface_lib.callbacks:R[write to console]: =\n",
            "WARNING:rpy2.rinterface_lib.callbacks:R[write to console]: =\n",
            "WARNING:rpy2.rinterface_lib.callbacks:R[write to console]: =\n",
            "WARNING:rpy2.rinterface_lib.callbacks:R[write to console]: =\n",
            "WARNING:rpy2.rinterface_lib.callbacks:R[write to console]: =\n",
            "WARNING:rpy2.rinterface_lib.callbacks:R[write to console]: =\n",
            "WARNING:rpy2.rinterface_lib.callbacks:R[write to console]: =\n",
            "WARNING:rpy2.rinterface_lib.callbacks:R[write to console]: =\n",
            "WARNING:rpy2.rinterface_lib.callbacks:R[write to console]: =\n",
            "WARNING:rpy2.rinterface_lib.callbacks:R[write to console]: =\n",
            "WARNING:rpy2.rinterface_lib.callbacks:R[write to console]: =\n",
            "WARNING:rpy2.rinterface_lib.callbacks:R[write to console]: =\n",
            "WARNING:rpy2.rinterface_lib.callbacks:R[write to console]: =\n",
            "WARNING:rpy2.rinterface_lib.callbacks:R[write to console]: =\n",
            "WARNING:rpy2.rinterface_lib.callbacks:R[write to console]: =\n",
            "WARNING:rpy2.rinterface_lib.callbacks:R[write to console]: =\n",
            "WARNING:rpy2.rinterface_lib.callbacks:R[write to console]: =\n",
            "WARNING:rpy2.rinterface_lib.callbacks:R[write to console]: =\n",
            "WARNING:rpy2.rinterface_lib.callbacks:R[write to console]: =\n",
            "WARNING:rpy2.rinterface_lib.callbacks:R[write to console]: =\n",
            "WARNING:rpy2.rinterface_lib.callbacks:R[write to console]: =\n",
            "WARNING:rpy2.rinterface_lib.callbacks:R[write to console]: =\n",
            "WARNING:rpy2.rinterface_lib.callbacks:R[write to console]: =\n",
            "WARNING:rpy2.rinterface_lib.callbacks:R[write to console]: \n",
            "\n",
            "WARNING:rpy2.rinterface_lib.callbacks:R[write to console]: downloaded 355 KB\n",
            "\n",
            "\n",
            "WARNING:rpy2.rinterface_lib.callbacks:R[write to console]: \n",
            "\n",
            "WARNING:rpy2.rinterface_lib.callbacks:R[write to console]: \n",
            "WARNING:rpy2.rinterface_lib.callbacks:R[write to console]: The downloaded source packages are in\n",
            "\t‘/tmp/RtmprnsUqA/downloaded_packages’\n",
            "WARNING:rpy2.rinterface_lib.callbacks:R[write to console]: \n",
            "WARNING:rpy2.rinterface_lib.callbacks:R[write to console]: \n",
            "\n",
            "WARNING:rpy2.rinterface_lib.callbacks:R[write to console]: Installing package into ‘/usr/local/lib/R/site-library’\n",
            "(as ‘lib’ is unspecified)\n",
            "\n",
            "WARNING:rpy2.rinterface_lib.callbacks:R[write to console]: trying URL 'https://cran.rstudio.com/src/contrib/sqldf_0.4-11.tar.gz'\n",
            "\n",
            "WARNING:rpy2.rinterface_lib.callbacks:R[write to console]: Content type 'application/x-gzip'\n",
            "WARNING:rpy2.rinterface_lib.callbacks:R[write to console]:  length 63097 bytes (61 KB)\n",
            "\n",
            "WARNING:rpy2.rinterface_lib.callbacks:R[write to console]: =\n",
            "WARNING:rpy2.rinterface_lib.callbacks:R[write to console]: =\n",
            "WARNING:rpy2.rinterface_lib.callbacks:R[write to console]: =\n",
            "WARNING:rpy2.rinterface_lib.callbacks:R[write to console]: =\n",
            "WARNING:rpy2.rinterface_lib.callbacks:R[write to console]: =\n",
            "WARNING:rpy2.rinterface_lib.callbacks:R[write to console]: =\n",
            "WARNING:rpy2.rinterface_lib.callbacks:R[write to console]: =\n",
            "WARNING:rpy2.rinterface_lib.callbacks:R[write to console]: =\n",
            "WARNING:rpy2.rinterface_lib.callbacks:R[write to console]: =\n",
            "WARNING:rpy2.rinterface_lib.callbacks:R[write to console]: =\n",
            "WARNING:rpy2.rinterface_lib.callbacks:R[write to console]: =\n",
            "WARNING:rpy2.rinterface_lib.callbacks:R[write to console]: =\n",
            "WARNING:rpy2.rinterface_lib.callbacks:R[write to console]: =\n",
            "WARNING:rpy2.rinterface_lib.callbacks:R[write to console]: =\n",
            "WARNING:rpy2.rinterface_lib.callbacks:R[write to console]: =\n",
            "WARNING:rpy2.rinterface_lib.callbacks:R[write to console]: =\n",
            "WARNING:rpy2.rinterface_lib.callbacks:R[write to console]: =\n",
            "WARNING:rpy2.rinterface_lib.callbacks:R[write to console]: =\n",
            "WARNING:rpy2.rinterface_lib.callbacks:R[write to console]: =\n",
            "WARNING:rpy2.rinterface_lib.callbacks:R[write to console]: =\n",
            "WARNING:rpy2.rinterface_lib.callbacks:R[write to console]: =\n",
            "WARNING:rpy2.rinterface_lib.callbacks:R[write to console]: =\n",
            "WARNING:rpy2.rinterface_lib.callbacks:R[write to console]: =\n",
            "WARNING:rpy2.rinterface_lib.callbacks:R[write to console]: =\n",
            "WARNING:rpy2.rinterface_lib.callbacks:R[write to console]: =\n",
            "WARNING:rpy2.rinterface_lib.callbacks:R[write to console]: =\n",
            "WARNING:rpy2.rinterface_lib.callbacks:R[write to console]: =\n",
            "WARNING:rpy2.rinterface_lib.callbacks:R[write to console]: =\n",
            "WARNING:rpy2.rinterface_lib.callbacks:R[write to console]: =\n",
            "WARNING:rpy2.rinterface_lib.callbacks:R[write to console]: =\n",
            "WARNING:rpy2.rinterface_lib.callbacks:R[write to console]: =\n",
            "WARNING:rpy2.rinterface_lib.callbacks:R[write to console]: =\n",
            "WARNING:rpy2.rinterface_lib.callbacks:R[write to console]: =\n",
            "WARNING:rpy2.rinterface_lib.callbacks:R[write to console]: =\n",
            "WARNING:rpy2.rinterface_lib.callbacks:R[write to console]: =\n",
            "WARNING:rpy2.rinterface_lib.callbacks:R[write to console]: =\n",
            "WARNING:rpy2.rinterface_lib.callbacks:R[write to console]: =\n",
            "WARNING:rpy2.rinterface_lib.callbacks:R[write to console]: =\n",
            "WARNING:rpy2.rinterface_lib.callbacks:R[write to console]: =\n",
            "WARNING:rpy2.rinterface_lib.callbacks:R[write to console]: =\n",
            "WARNING:rpy2.rinterface_lib.callbacks:R[write to console]: =\n",
            "WARNING:rpy2.rinterface_lib.callbacks:R[write to console]: =\n",
            "WARNING:rpy2.rinterface_lib.callbacks:R[write to console]: =\n",
            "WARNING:rpy2.rinterface_lib.callbacks:R[write to console]: =\n",
            "WARNING:rpy2.rinterface_lib.callbacks:R[write to console]: =\n",
            "WARNING:rpy2.rinterface_lib.callbacks:R[write to console]: =\n",
            "WARNING:rpy2.rinterface_lib.callbacks:R[write to console]: =\n",
            "WARNING:rpy2.rinterface_lib.callbacks:R[write to console]: =\n",
            "WARNING:rpy2.rinterface_lib.callbacks:R[write to console]: =\n",
            "WARNING:rpy2.rinterface_lib.callbacks:R[write to console]: =\n",
            "WARNING:rpy2.rinterface_lib.callbacks:R[write to console]: \n",
            "\n",
            "WARNING:rpy2.rinterface_lib.callbacks:R[write to console]: downloaded 61 KB\n",
            "\n",
            "\n",
            "WARNING:rpy2.rinterface_lib.callbacks:R[write to console]: \n",
            "\n",
            "WARNING:rpy2.rinterface_lib.callbacks:R[write to console]: \n",
            "WARNING:rpy2.rinterface_lib.callbacks:R[write to console]: The downloaded source packages are in\n",
            "\t‘/tmp/RtmprnsUqA/downloaded_packages’\n",
            "WARNING:rpy2.rinterface_lib.callbacks:R[write to console]: \n",
            "WARNING:rpy2.rinterface_lib.callbacks:R[write to console]: \n",
            "\n"
          ]
        }
      ]
    },
    {
      "cell_type": "markdown",
      "source": [
        "# Load AnnotatedFeaturesBellenguez_21.csv"
      ],
      "metadata": {
        "id": "XHEzTu5F-Jd6"
      }
    },
    {
      "cell_type": "code",
      "source": [
        "%%R\n",
        "library(data.table)\n",
        "AnnotatedFeaturesBellenguez <- fread(\"/content/drive/MyDrive/Regeneron_STS_2023/Model/Input_Data/AnnotatedFeaturesBellenguez_21.csv\",showProgress = FALSE) \n",
        "nrow(AnnotatedFeaturesBellenguez) #21061706"
      ],
      "metadata": {
        "colab": {
          "base_uri": "https://localhost:8080/"
        },
        "id": "CK-wyg-u98TJ",
        "outputId": "5c482d59-ced9-4d22-b06b-2bcc0161ec16"
      },
      "execution_count": 4,
      "outputs": [
        {
          "output_type": "stream",
          "name": "stderr",
          "text": [
            "WARNING:rpy2.rinterface_lib.callbacks:R[write to console]: data.table 1.14.2 using 2 threads (see ?getDTthreads).  Latest news: r-datatable.com\n",
            "\n"
          ]
        },
        {
          "output_type": "stream",
          "name": "stdout",
          "text": [
            "[1] 21061706\n"
          ]
        }
      ]
    },
    {
      "cell_type": "code",
      "source": [
        "%%R\n",
        "head(AnnotatedFeaturesBellenguez)"
      ],
      "metadata": {
        "colab": {
          "base_uri": "https://localhost:8080/"
        },
        "id": "ZtARiBPK98QF",
        "outputId": "a247c2de-8124-44be-df68-24ece23b10ea"
      },
      "execution_count": 5,
      "outputs": [
        {
          "output_type": "stream",
          "name": "stdout",
          "text": [
            "   chromosome  start    end     NA sweeps C1 C2 C3 C4 C5 C6 C7 cCRE\n",
            "1:       chr1 529825 529826 0.9626      0  0  0  0  0  0  0  0    0\n",
            "2:       chr1 531142 531143 0.2670      0  0  0  0  0  0  0  0    0\n",
            "3:       chr1 566327 566328 0.8214      0  0  0  0  0  0  0  0    0\n",
            "4:       chr1 581537 581538 0.3411      0  0  0  0  0  0  0  0    0\n",
            "5:       chr1 661906 661907 0.3542      0  0  0  0  0  0  0  0    0\n",
            "6:       chr1 662613 662614 0.6424      0  0  0  0  0  0  0  0    0\n",
            "   chiapet.loops footprints dhs.peaks rad21 tfbinding FB1 fire40kb_Adult\n",
            "1:             0          0         0     0         0   0              0\n",
            "2:             0          0         0     0         0   0              0\n",
            "3:             0          0         0     0         0   0              0\n",
            "4:             0          0         0     0         0   0              0\n",
            "5:             0          0         0     0         0   0              0\n",
            "6:             0          0         0     0         0   0              0\n",
            "   fire40kb_Fetal MDT_neuron open_adult open_fetal Organoid_11 PEC_enhancers\n",
            "1:              0          0          0          0           0             0\n",
            "2:              0          0          0          0           0             0\n",
            "3:              0          0          0          0           0             0\n",
            "4:              0          0          0          0           0             0\n",
            "5:              0          0          0          0           0             0\n",
            "6:              0          0          0          0           0             0\n",
            "   phylop superfire40kb_Adult superfire40kb_Fetal eQTL\n",
            "1:      0                   0                   0    0\n",
            "2:      0                   0                   0    0\n",
            "3:      0                   0                   0    0\n",
            "4:      0                   0                   0    0\n",
            "5:      0                   0                   0    0\n",
            "6:      0                   0                   0    0\n"
          ]
        }
      ]
    },
    {
      "cell_type": "code",
      "source": [
        "##Remove duplicates based on column \"chromosome\",\"start\"\n",
        "%%R\n",
        "AnnotatedFeaturesBellenguez <- AnnotatedFeaturesBellenguez[!duplicated(AnnotatedFeaturesBellenguez[ , c(\"chromosome\",\"start\")]),]\n",
        "nrow(AnnotatedFeaturesBellenguez) #21,016,274  (# Duplicates = 21,061,706 - 21,016,274 = 45,432)"
      ],
      "metadata": {
        "colab": {
          "base_uri": "https://localhost:8080/"
        },
        "id": "FMEUqcvj98NZ",
        "outputId": "c1cf19ad-f1e5-4617-ecc8-c411cf50b349"
      },
      "execution_count": 6,
      "outputs": [
        {
          "output_type": "stream",
          "name": "stdout",
          "text": [
            "[1] 21016274\n"
          ]
        }
      ]
    },
    {
      "cell_type": "markdown",
      "source": [
        "# Load Bellenguez_21_BedLifted_IdAllelesIncluded.bed\n",
        "This file is used to get RSIDs which are missing in Bellenguez.csv file"
      ],
      "metadata": {
        "id": "Bx5fM4A9BpKw"
      }
    },
    {
      "cell_type": "code",
      "source": [
        "%%R\n",
        "library(data.table)\n",
        "BEDFile <- fread(\"/content/drive/MyDrive/Regeneron_STS_2023/Model/Input_Data/Bellenguez_21_BedLifted_IdAllelesIncluded.bed\", showProgress = FALSE) \n",
        "nrow(BEDFile) ##21,061,706"
      ],
      "metadata": {
        "colab": {
          "base_uri": "https://localhost:8080/"
        },
        "id": "835hKPek98Kt",
        "outputId": "09ffbf62-5743-49d1-e492-2d7a55d24314"
      },
      "execution_count": 7,
      "outputs": [
        {
          "output_type": "stream",
          "name": "stdout",
          "text": [
            "[1] 21061706\n"
          ]
        }
      ]
    },
    {
      "cell_type": "code",
      "source": [
        "%%R\n",
        "head(BEDFile)"
      ],
      "metadata": {
        "colab": {
          "base_uri": "https://localhost:8080/"
        },
        "id": "t4w1gYIN98H1",
        "outputId": "73f51229-ef4a-4ec5-ca55-9387d0b5cc2e"
      },
      "execution_count": 8,
      "outputs": [
        {
          "output_type": "stream",
          "name": "stdout",
          "text": [
            "     V1     V2     V3     V4           V5  V6 V7\n",
            "1: chr1 529825 529826 0.9626  rs888953847   T  C\n",
            "2: chr1 531142 531143 0.2670 rs1040232850 CTG  C\n",
            "3: chr1 566327 566328 0.8214 rs1390538076   A  G\n",
            "4: chr1 581537 581538 0.3411 rs1250812823   A  G\n",
            "5: chr1 661906 661907 0.3542  rs991450070   C  G\n",
            "6: chr1 662613 662614 0.6424  rs151190501   A  G\n"
          ]
        }
      ]
    },
    {
      "cell_type": "code",
      "source": [
        "%%R\n",
        "colnames(BEDFile) <- c(\"chr\", \"start\", \"end\", \"p_value\", \"RSID\",\t\"effect_allele\",\t\"other_allele\")\n",
        "head(BEDFile)"
      ],
      "metadata": {
        "colab": {
          "base_uri": "https://localhost:8080/"
        },
        "id": "ufcn7fBp98FK",
        "outputId": "982f5436-e060-4538-bc88-c88c29c6bbb8"
      },
      "execution_count": 9,
      "outputs": [
        {
          "output_type": "stream",
          "name": "stdout",
          "text": [
            "    chr  start    end p_value         RSID effect_allele other_allele\n",
            "1: chr1 529825 529826  0.9626  rs888953847             T            C\n",
            "2: chr1 531142 531143  0.2670 rs1040232850           CTG            C\n",
            "3: chr1 566327 566328  0.8214 rs1390538076             A            G\n",
            "4: chr1 581537 581538  0.3411 rs1250812823             A            G\n",
            "5: chr1 661906 661907  0.3542  rs991450070             C            G\n",
            "6: chr1 662613 662614  0.6424  rs151190501             A            G\n"
          ]
        }
      ]
    },
    {
      "cell_type": "code",
      "source": [
        "##Remove duplicates based on column V1 & V2\n",
        "%%R\n",
        "BEDFile <- BEDFile[!duplicated(BEDFile[ , c(\"chr\",\"start\")]),]\n",
        "nrow(BEDFile) #21,016,274  (# Duplicates = 21,061,706 - 21,016,274 = 45,432)"
      ],
      "metadata": {
        "colab": {
          "base_uri": "https://localhost:8080/"
        },
        "id": "7Ep7hGiX98Ce",
        "outputId": "1318ca76-5930-4382-8a00-205cabeab9f4"
      },
      "execution_count": 10,
      "outputs": [
        {
          "output_type": "stream",
          "name": "stdout",
          "text": [
            "[1] 21016274\n"
          ]
        }
      ]
    },
    {
      "cell_type": "code",
      "source": [
        "%%R\n",
        "BEDFile <- BEDFile[, c(\"chr\", \"start\", \"RSID\")]\n",
        "head(BEDFile)"
      ],
      "metadata": {
        "colab": {
          "base_uri": "https://localhost:8080/"
        },
        "id": "XUWXD0zG97_q",
        "outputId": "43612548-7221-4922-e0c3-12dab7f7602d"
      },
      "execution_count": 11,
      "outputs": [
        {
          "output_type": "stream",
          "name": "stdout",
          "text": [
            "    chr  start         RSID\n",
            "1: chr1 529825  rs888953847\n",
            "2: chr1 531142 rs1040232850\n",
            "3: chr1 566327 rs1390538076\n",
            "4: chr1 581537 rs1250812823\n",
            "5: chr1 661906  rs991450070\n",
            "6: chr1 662613  rs151190501\n"
          ]
        }
      ]
    },
    {
      "cell_type": "code",
      "source": [
        "%%R\n",
        "AnnotatedFeaturesBellenguez <- merge(AnnotatedFeaturesBellenguez, BEDFile, by.x=c('chromosome','start'), by.y=c('chr','start'))\n",
        "nrow(AnnotatedFeaturesBellenguez)"
      ],
      "metadata": {
        "colab": {
          "base_uri": "https://localhost:8080/"
        },
        "id": "KMLmC2VfCiYa",
        "outputId": "528ff407-b47e-41f7-fdf7-633f594212dd"
      },
      "execution_count": 12,
      "outputs": [
        {
          "output_type": "stream",
          "name": "stdout",
          "text": [
            "[1] 21016274\n"
          ]
        }
      ]
    },
    {
      "cell_type": "code",
      "source": [
        "%%R\n",
        "names(AnnotatedFeaturesBellenguez)[names(AnnotatedFeaturesBellenguez) == \"NA\"] <- \"pvalue\"\n",
        "head(AnnotatedFeaturesBellenguez)"
      ],
      "metadata": {
        "colab": {
          "base_uri": "https://localhost:8080/"
        },
        "id": "ef5ixIauCiUw",
        "outputId": "ab22e8d2-90dc-4471-a972-9791659431cd"
      },
      "execution_count": 13,
      "outputs": [
        {
          "output_type": "stream",
          "name": "stdout",
          "text": [
            "   chromosome  start    end pvalue sweeps C1 C2 C3 C4 C5 C6 C7 cCRE\n",
            "1:       chr1 229820 229821 0.2303      0  0  0  0  0  0  0  0    0\n",
            "2:       chr1 529825 529826 0.9626      0  0  0  0  0  0  0  0    0\n",
            "3:       chr1 531142 531143 0.2670      0  0  0  0  0  0  0  0    0\n",
            "4:       chr1 566327 566328 0.8214      0  0  0  0  0  0  0  0    0\n",
            "5:       chr1 581537 581538 0.3411      0  0  0  0  0  0  0  0    0\n",
            "6:       chr1 661906 661907 0.3542      0  0  0  0  0  0  0  0    0\n",
            "   chiapet.loops footprints dhs.peaks rad21 tfbinding FB1 fire40kb_Adult\n",
            "1:             0          0         0     0         0   0              0\n",
            "2:             0          0         0     0         0   0              0\n",
            "3:             0          0         0     0         0   0              0\n",
            "4:             0          0         0     0         0   0              0\n",
            "5:             0          0         0     0         0   0              0\n",
            "6:             0          0         0     0         0   0              0\n",
            "   fire40kb_Fetal MDT_neuron open_adult open_fetal Organoid_11 PEC_enhancers\n",
            "1:              0          0          0          0           0             0\n",
            "2:              0          0          0          0           0             0\n",
            "3:              0          0          0          0           0             0\n",
            "4:              0          0          0          0           0             0\n",
            "5:              0          0          0          0           0             0\n",
            "6:              0          0          0          0           0             0\n",
            "   phylop superfire40kb_Adult superfire40kb_Fetal eQTL         RSID\n",
            "1:      0                   0                   0    0 rs1159884564\n",
            "2:      0                   0                   0    0  rs888953847\n",
            "3:      0                   0                   0    0 rs1040232850\n",
            "4:      0                   0                   0    0 rs1390538076\n",
            "5:      0                   0                   0    0 rs1250812823\n",
            "6:      0                   0                   0    0  rs991450070\n"
          ]
        }
      ]
    },
    {
      "cell_type": "code",
      "source": [
        "%%R\n",
        "cols <- colnames(AnnotatedFeaturesBellenguez)\n",
        "cols <- append(cols,'Key')\n",
        "len=length(cols)\n",
        "df <- data.frame(matrix(ncol = len, nrow = 0))\n",
        "colnames(df) <- cols\n",
        "print(df)"
      ],
      "metadata": {
        "colab": {
          "base_uri": "https://localhost:8080/"
        },
        "id": "OxQdg_IDCiR9",
        "outputId": "e0ccf284-5b51-4e3b-efb5-ff4206260760"
      },
      "execution_count": 14,
      "outputs": [
        {
          "output_type": "stream",
          "name": "stdout",
          "text": [
            " [1] chromosome          start               end                \n",
            " [4] pvalue              sweeps              C1                 \n",
            " [7] C2                  C3                  C4                 \n",
            "[10] C5                  C6                  C7                 \n",
            "[13] cCRE                chiapet.loops       footprints         \n",
            "[16] dhs.peaks           rad21               tfbinding          \n",
            "[19] FB1                 fire40kb_Adult      fire40kb_Fetal     \n",
            "[22] MDT_neuron          open_adult          open_fetal         \n",
            "[25] Organoid_11         PEC_enhancers       phylop             \n",
            "[28] superfire40kb_Adult superfire40kb_Fetal eQTL               \n",
            "[31] RSID                Key                \n",
            "<0 rows> (or 0-length row.names)\n"
          ]
        }
      ]
    },
    {
      "cell_type": "code",
      "source": [
        "%%R\n",
        "i <- 1\n",
        "\n",
        "while (i <= 22){\n",
        "fnamein = gsub(' ','',paste(\"/content/drive/MyDrive/Regeneron_STS_2023/Model/Input_Data/MatchedCaddFathmmScores/chr\", i, \".out.BED_CADD_FATHMM.gz\"))\n",
        "caddft <- fread(fnamein,select = c(3,4,7,11,12), showProgress = FALSE)\n",
        "print(fnamein)\n",
        "colnames(caddft) <- c(\"chr\", \"start\", \"RSID\", \"CADD\", \"FATHMM\")\n",
        "print(nrow(caddft))\n",
        "\n",
        "chr <- merge(AnnotatedFeaturesBellenguez, caddft, by.x=c('RSID'), by.y=c('RSID'))\n",
        "chr$Key <- gsub(' ','',paste(chr$chromosome,':',chr$start))\n",
        "print(nrow(chr))\n",
        "\n",
        "df <- rbind(df,chr)\n",
        "print(nrow(df))\n",
        "\n",
        "i <- i+1\n",
        "}\n",
        "\n",
        "fnameout = \"/content/drive/MyDrive/Regeneron_STS_2023/Model/Input_Data/AnnotatedFeaturesBellenguez_CADD_FATHMM.gz\"\n",
        "print(fnameout)\n",
        "write.table(df, fnameout, quote = F, sep=\"\\t\", col.names = NA, row.names = T)\n",
        "print(head(df))"
      ],
      "metadata": {
        "colab": {
          "base_uri": "https://localhost:8080/"
        },
        "id": "akR6OnTvCiPF",
        "outputId": "90cb8a2e-56bd-4674-d040-b24fba3ba74a"
      },
      "execution_count": 15,
      "outputs": [
        {
          "output_type": "stream",
          "name": "stdout",
          "text": [
            "[1] \"/content/drive/MyDrive/Regeneron_STS_2023/Model/Input_Data/MatchedCaddFathmmScores/chr1.out.BED_CADD_FATHMM.gz\"\n",
            "[1] 1561192\n",
            "[1] 1561192\n",
            "[1] 1561192\n",
            "[1] \"/content/drive/MyDrive/Regeneron_STS_2023/Model/Input_Data/MatchedCaddFathmmScores/chr2.out.BED_CADD_FATHMM.gz\"\n",
            "[1] 1690591\n",
            "[1] 1690591\n",
            "[1] 3251783\n",
            "[1] \"/content/drive/MyDrive/Regeneron_STS_2023/Model/Input_Data/MatchedCaddFathmmScores/chr3.out.BED_CADD_FATHMM.gz\"\n",
            "[1] 1435976\n",
            "[1] 1435976\n",
            "[1] 4687759\n",
            "[1] \"/content/drive/MyDrive/Regeneron_STS_2023/Model/Input_Data/MatchedCaddFathmmScores/chr4.out.BED_CADD_FATHMM.gz\"\n",
            "[1] 1418539\n",
            "[1] 1418539\n",
            "[1] 6106298\n",
            "[1] \"/content/drive/MyDrive/Regeneron_STS_2023/Model/Input_Data/MatchedCaddFathmmScores/chr5.out.BED_CADD_FATHMM.gz\"\n",
            "[1] 1292120\n",
            "[1] 1292120\n",
            "[1] 7398418\n",
            "[1] \"/content/drive/MyDrive/Regeneron_STS_2023/Model/Input_Data/MatchedCaddFathmmScores/chr6.out.BED_CADD_FATHMM.gz\"\n",
            "[1] 1267240\n",
            "[1] 1267240\n",
            "[1] 8665658\n",
            "[1] \"/content/drive/MyDrive/Regeneron_STS_2023/Model/Input_Data/MatchedCaddFathmmScores/chr7.out.BED_CADD_FATHMM.gz\"\n",
            "[1] 1141550\n",
            "[1] 1141550\n",
            "[1] 9807208\n",
            "[1] \"/content/drive/MyDrive/Regeneron_STS_2023/Model/Input_Data/MatchedCaddFathmmScores/chr8.out.BED_CADD_FATHMM.gz\"\n",
            "[1] 1102891\n",
            "[1] 1102891\n",
            "[1] 10910099\n",
            "[1] \"/content/drive/MyDrive/Regeneron_STS_2023/Model/Input_Data/MatchedCaddFathmmScores/chr9.out.BED_CADD_FATHMM.gz\"\n",
            "[1] 853713\n",
            "[1] 853713\n",
            "[1] 11763812\n",
            "[1] \"/content/drive/MyDrive/Regeneron_STS_2023/Model/Input_Data/MatchedCaddFathmmScores/chr10.out.BED_CADD_FATHMM.gz\"\n",
            "[1] 980761\n",
            "[1] 980761\n",
            "[1] 12744573\n",
            "[1] \"/content/drive/MyDrive/Regeneron_STS_2023/Model/Input_Data/MatchedCaddFathmmScores/chr11.out.BED_CADD_FATHMM.gz\"\n",
            "[1] 976405\n",
            "[1] 976405\n",
            "[1] 13720978\n",
            "[1] \"/content/drive/MyDrive/Regeneron_STS_2023/Model/Input_Data/MatchedCaddFathmmScores/chr12.out.BED_CADD_FATHMM.gz\"\n",
            "[1] 929312\n",
            "[1] 929312\n",
            "[1] 14650290\n",
            "[1] \"/content/drive/MyDrive/Regeneron_STS_2023/Model/Input_Data/MatchedCaddFathmmScores/chr13.out.BED_CADD_FATHMM.gz\"\n",
            "[1] 717722\n",
            "[1] 717722\n",
            "[1] 15368012\n",
            "[1] \"/content/drive/MyDrive/Regeneron_STS_2023/Model/Input_Data/MatchedCaddFathmmScores/chr14.out.BED_CADD_FATHMM.gz\"\n",
            "[1] 633110\n",
            "[1] 633110\n",
            "[1] 16001122\n",
            "[1] \"/content/drive/MyDrive/Regeneron_STS_2023/Model/Input_Data/MatchedCaddFathmmScores/chr15.out.BED_CADD_FATHMM.gz\"\n",
            "[1] 556077\n",
            "[1] 556077\n",
            "[1] 16557199\n",
            "[1] \"/content/drive/MyDrive/Regeneron_STS_2023/Model/Input_Data/MatchedCaddFathmmScores/chr16.out.BED_CADD_FATHMM.gz\"\n",
            "[1] 613754\n",
            "[1] 613754\n",
            "[1] 17170953\n",
            "[1] \"/content/drive/MyDrive/Regeneron_STS_2023/Model/Input_Data/MatchedCaddFathmmScores/chr17.out.BED_CADD_FATHMM.gz\"\n",
            "[1] 535358\n",
            "[1] 535358\n",
            "[1] 17706311\n",
            "[1] \"/content/drive/MyDrive/Regeneron_STS_2023/Model/Input_Data/MatchedCaddFathmmScores/chr18.out.BED_CADD_FATHMM.gz\"\n",
            "[1] 554886\n",
            "[1] 554886\n",
            "[1] 18261197\n",
            "[1] \"/content/drive/MyDrive/Regeneron_STS_2023/Model/Input_Data/MatchedCaddFathmmScores/chr19.out.BED_CADD_FATHMM.gz\"\n",
            "[1] 431077\n",
            "[1] 431077\n",
            "[1] 18692274\n",
            "[1] \"/content/drive/MyDrive/Regeneron_STS_2023/Model/Input_Data/MatchedCaddFathmmScores/chr20.out.BED_CADD_FATHMM.gz\"\n",
            "[1] 443503\n",
            "[1] 443503\n",
            "[1] 19135777\n",
            "[1] \"/content/drive/MyDrive/Regeneron_STS_2023/Model/Input_Data/MatchedCaddFathmmScores/chr21.out.BED_CADD_FATHMM.gz\"\n",
            "[1] 262740\n",
            "[1] 262740\n",
            "[1] 19398517\n",
            "[1] \"/content/drive/MyDrive/Regeneron_STS_2023/Model/Input_Data/MatchedCaddFathmmScores/chr22.out.BED_CADD_FATHMM.gz\"\n",
            "[1] 265213\n",
            "[1] 265213\n",
            "[1] 19663730\n",
            "[1] \"/content/drive/MyDrive/Regeneron_STS_2023/Model/Input_Data/AnnotatedFeaturesBellenguez_CADD_FATHMM.gz\"\n",
            "           RSID chromosome   start.x       end  pvalue sweeps C1 C2 C3 C4 C5 C6\n",
            "1: rs1000000326       chr1 189920805 189920806 0.08383      0  0  0  0  0  0  0\n",
            "2: rs1000003820       chr1  45061723  45061724 0.67710      0  0  0  0  0  0  0\n",
            "3: rs1000006697       chr1 155902677 155902678 0.11860      0  0  0  0  0  0  0\n",
            "4: rs1000011051       chr1  13723909  13723910 0.15460      0  0  0  0  0  0  0\n",
            "5: rs1000011868       chr1  56070056  56070057 0.20130      0  0  0  0  0  0  0\n",
            "6: rs1000017931       chr1 179939123 179939124 0.65290      0  0  0  0  0  0  0\n",
            "   C7 cCRE chiapet.loops footprints dhs.peaks rad21 tfbinding FB1\n",
            "1:  0    0             0          0         0     0         0   0\n",
            "2:  0    0             0          0         0     0         0   0\n",
            "3:  0    0             0          0         0     0         0   0\n",
            "4:  0    0             0          0         0     0         0   0\n",
            "5:  0    0             0          0         0     0         0   0\n",
            "6:  0    0             0          0         0     0         0   0\n",
            "   fire40kb_Adult fire40kb_Fetal MDT_neuron open_adult open_fetal Organoid_11\n",
            "1:              0              0          0          0          0           0\n",
            "2:              0              0          0          0          0           0\n",
            "3:              0              0          0          0          0           0\n",
            "4:              0              0          0          0          0           0\n",
            "5:              0              0          0          0          0           0\n",
            "6:              0              0          0          0          0           0\n",
            "   PEC_enhancers phylop superfire40kb_Adult superfire40kb_Fetal eQTL  chr\n",
            "1:             0      0                   0                   0    0 chr1\n",
            "2:             0      0                   0                   0    0 chr1\n",
            "3:             0      0                   0                   0    0 chr1\n",
            "4:             0      0                   0                   0    0 chr1\n",
            "5:             0      0                   0                   0    0 chr1\n",
            "6:             0      0                   0                   0    0 chr1\n",
            "     start.y   CADD   FATHMM   Key\n",
            "1: 189920805  3.228 0.095988 chr1:\n",
            "2:  45061723  0.232 0.011326 chr1:\n",
            "3: 155902677  0.789 0.021341 chr1:\n",
            "4:  13723909  0.395 0.062457 chr1:\n",
            "5:  56070056  1.886 0.027619 chr1:\n",
            "6: 179939123 13.830 0.048973 chr1:\n"
          ]
        }
      ]
    },
    {
      "cell_type": "code",
      "source": [
        "%%R\n",
        "cols <- colnames(df)\n",
        "cols"
      ],
      "metadata": {
        "colab": {
          "base_uri": "https://localhost:8080/"
        },
        "id": "jZ8DEBIbCiMA",
        "outputId": "95b1390f-2159-4513-b1de-15fffe9e8cde"
      },
      "execution_count": 16,
      "outputs": [
        {
          "output_type": "stream",
          "name": "stdout",
          "text": [
            " [1] \"RSID\"                \"chromosome\"          \"start.x\"            \n",
            " [4] \"end\"                 \"pvalue\"              \"sweeps\"             \n",
            " [7] \"C1\"                  \"C2\"                  \"C3\"                 \n",
            "[10] \"C4\"                  \"C5\"                  \"C6\"                 \n",
            "[13] \"C7\"                  \"cCRE\"                \"chiapet.loops\"      \n",
            "[16] \"footprints\"          \"dhs.peaks\"           \"rad21\"              \n",
            "[19] \"tfbinding\"           \"FB1\"                 \"fire40kb_Adult\"     \n",
            "[22] \"fire40kb_Fetal\"      \"MDT_neuron\"          \"open_adult\"         \n",
            "[25] \"open_fetal\"          \"Organoid_11\"         \"PEC_enhancers\"      \n",
            "[28] \"phylop\"              \"superfire40kb_Adult\" \"superfire40kb_Fetal\"\n",
            "[31] \"eQTL\"                \"chr\"                 \"start.y\"            \n",
            "[34] \"CADD\"                \"FATHMM\"              \"Key\"                \n"
          ]
        }
      ]
    },
    {
      "cell_type": "code",
      "source": [
        "%%R\n",
        "df <- df[,-33] \n",
        "df <- df[,-32] \n",
        "names(df)[names(df) == \"start.x\"] <- \"start\"\n",
        "cols <- colnames(df)\n",
        "cols"
      ],
      "metadata": {
        "colab": {
          "base_uri": "https://localhost:8080/"
        },
        "id": "S6rgNP8oCiJC",
        "outputId": "b2d81456-d69b-41f2-b42c-5a45ebfcd9e6"
      },
      "execution_count": 17,
      "outputs": [
        {
          "output_type": "stream",
          "name": "stdout",
          "text": [
            " [1] \"RSID\"                \"chromosome\"          \"start\"              \n",
            " [4] \"end\"                 \"pvalue\"              \"sweeps\"             \n",
            " [7] \"C1\"                  \"C2\"                  \"C3\"                 \n",
            "[10] \"C4\"                  \"C5\"                  \"C6\"                 \n",
            "[13] \"C7\"                  \"cCRE\"                \"chiapet.loops\"      \n",
            "[16] \"footprints\"          \"dhs.peaks\"           \"rad21\"              \n",
            "[19] \"tfbinding\"           \"FB1\"                 \"fire40kb_Adult\"     \n",
            "[22] \"fire40kb_Fetal\"      \"MDT_neuron\"          \"open_adult\"         \n",
            "[25] \"open_fetal\"          \"Organoid_11\"         \"PEC_enhancers\"      \n",
            "[28] \"phylop\"              \"superfire40kb_Adult\" \"superfire40kb_Fetal\"\n",
            "[31] \"eQTL\"                \"CADD\"                \"FATHMM\"             \n",
            "[34] \"Key\"                \n"
          ]
        }
      ]
    },
    {
      "cell_type": "code",
      "source": [
        "%%R\n",
        "df$Key <- gsub(' ','',paste(df$chromosome,':',df$start))\n",
        "head(df)"
      ],
      "metadata": {
        "colab": {
          "base_uri": "https://localhost:8080/"
        },
        "id": "fBwof-lXCiGK",
        "outputId": "bec29eff-0b29-42aa-8b56-4e0462f0c107"
      },
      "execution_count": 18,
      "outputs": [
        {
          "output_type": "stream",
          "name": "stdout",
          "text": [
            "           RSID chromosome     start       end  pvalue sweeps C1 C2 C3 C4 C5 C6\n",
            "1: rs1000000326       chr1 189920805 189920806 0.08383      0  0  0  0  0  0  0\n",
            "2: rs1000003820       chr1  45061723  45061724 0.67710      0  0  0  0  0  0  0\n",
            "3: rs1000006697       chr1 155902677 155902678 0.11860      0  0  0  0  0  0  0\n",
            "4: rs1000011051       chr1  13723909  13723910 0.15460      0  0  0  0  0  0  0\n",
            "5: rs1000011868       chr1  56070056  56070057 0.20130      0  0  0  0  0  0  0\n",
            "6: rs1000017931       chr1 179939123 179939124 0.65290      0  0  0  0  0  0  0\n",
            "   C7 cCRE chiapet.loops footprints dhs.peaks rad21 tfbinding FB1\n",
            "1:  0    0             0          0         0     0         0   0\n",
            "2:  0    0             0          0         0     0         0   0\n",
            "3:  0    0             0          0         0     0         0   0\n",
            "4:  0    0             0          0         0     0         0   0\n",
            "5:  0    0             0          0         0     0         0   0\n",
            "6:  0    0             0          0         0     0         0   0\n",
            "   fire40kb_Adult fire40kb_Fetal MDT_neuron open_adult open_fetal Organoid_11\n",
            "1:              0              0          0          0          0           0\n",
            "2:              0              0          0          0          0           0\n",
            "3:              0              0          0          0          0           0\n",
            "4:              0              0          0          0          0           0\n",
            "5:              0              0          0          0          0           0\n",
            "6:              0              0          0          0          0           0\n",
            "   PEC_enhancers phylop superfire40kb_Adult superfire40kb_Fetal eQTL   CADD\n",
            "1:             0      0                   0                   0    0  3.228\n",
            "2:             0      0                   0                   0    0  0.232\n",
            "3:             0      0                   0                   0    0  0.789\n",
            "4:             0      0                   0                   0    0  0.395\n",
            "5:             0      0                   0                   0    0  1.886\n",
            "6:             0      0                   0                   0    0 13.830\n",
            "     FATHMM            Key\n",
            "1: 0.095988 chr1:189920805\n",
            "2: 0.011326  chr1:45061723\n",
            "3: 0.021341 chr1:155902677\n",
            "4: 0.062457  chr1:13723909\n",
            "5: 0.027619  chr1:56070056\n",
            "6: 0.048973 chr1:179939123\n"
          ]
        }
      ]
    },
    {
      "cell_type": "code",
      "source": [
        "%%R\n",
        "fnameout = \"/content/drive/MyDrive/Regeneron_STS_2023/Model/Input_Data/AnnotatedFeaturesBellenguez_CADD_FATHMM.gz\"\n",
        "print(fnameout)\n",
        "write.table(df, fnameout, quote = F, sep=\"\\t\", col.names = NA, row.names = T)\n",
        "print(head(df))"
      ],
      "metadata": {
        "colab": {
          "base_uri": "https://localhost:8080/"
        },
        "id": "5hraELfLnMGP",
        "outputId": "676abba5-7b70-4445-88c0-5bc46517c2bd"
      },
      "execution_count": 19,
      "outputs": [
        {
          "output_type": "stream",
          "name": "stdout",
          "text": [
            "[1] \"/content/drive/MyDrive/Regeneron_STS_2023/Model/Input_Data/AnnotatedFeaturesBellenguez_CADD_FATHMM.gz\"\n",
            "           RSID chromosome     start       end  pvalue sweeps C1 C2 C3 C4 C5 C6\n",
            "1: rs1000000326       chr1 189920805 189920806 0.08383      0  0  0  0  0  0  0\n",
            "2: rs1000003820       chr1  45061723  45061724 0.67710      0  0  0  0  0  0  0\n",
            "3: rs1000006697       chr1 155902677 155902678 0.11860      0  0  0  0  0  0  0\n",
            "4: rs1000011051       chr1  13723909  13723910 0.15460      0  0  0  0  0  0  0\n",
            "5: rs1000011868       chr1  56070056  56070057 0.20130      0  0  0  0  0  0  0\n",
            "6: rs1000017931       chr1 179939123 179939124 0.65290      0  0  0  0  0  0  0\n",
            "   C7 cCRE chiapet.loops footprints dhs.peaks rad21 tfbinding FB1\n",
            "1:  0    0             0          0         0     0         0   0\n",
            "2:  0    0             0          0         0     0         0   0\n",
            "3:  0    0             0          0         0     0         0   0\n",
            "4:  0    0             0          0         0     0         0   0\n",
            "5:  0    0             0          0         0     0         0   0\n",
            "6:  0    0             0          0         0     0         0   0\n",
            "   fire40kb_Adult fire40kb_Fetal MDT_neuron open_adult open_fetal Organoid_11\n",
            "1:              0              0          0          0          0           0\n",
            "2:              0              0          0          0          0           0\n",
            "3:              0              0          0          0          0           0\n",
            "4:              0              0          0          0          0           0\n",
            "5:              0              0          0          0          0           0\n",
            "6:              0              0          0          0          0           0\n",
            "   PEC_enhancers phylop superfire40kb_Adult superfire40kb_Fetal eQTL   CADD\n",
            "1:             0      0                   0                   0    0  3.228\n",
            "2:             0      0                   0                   0    0  0.232\n",
            "3:             0      0                   0                   0    0  0.789\n",
            "4:             0      0                   0                   0    0  0.395\n",
            "5:             0      0                   0                   0    0  1.886\n",
            "6:             0      0                   0                   0    0 13.830\n",
            "     FATHMM            Key\n",
            "1: 0.095988 chr1:189920805\n",
            "2: 0.011326  chr1:45061723\n",
            "3: 0.021341 chr1:155902677\n",
            "4: 0.062457  chr1:13723909\n",
            "5: 0.027619  chr1:56070056\n",
            "6: 0.048973 chr1:179939123\n"
          ]
        }
      ]
    },
    {
      "cell_type": "code",
      "source": [
        "%%R\n",
        "s <- subset(AnnotatedFeaturesBellenguez, !(RSID %in% df$RSID))\n",
        "nrow(s) #1,352,544"
      ],
      "metadata": {
        "colab": {
          "base_uri": "https://localhost:8080/"
        },
        "id": "tj67TxC3nMCx",
        "outputId": "f6a1a452-32e3-40f4-911b-10b1aa63273a"
      },
      "execution_count": 20,
      "outputs": [
        {
          "output_type": "stream",
          "name": "stdout",
          "text": [
            "[1] 1352544\n"
          ]
        }
      ]
    },
    {
      "cell_type": "code",
      "source": [
        "%%R\n",
        "rm(AnnotatedFeaturesBellenguez)"
      ],
      "metadata": {
        "id": "JgslUtohnL_r"
      },
      "execution_count": 21,
      "outputs": []
    },
    {
      "cell_type": "code",
      "source": [
        "%%R\n",
        "l = list(df,s)\n",
        "df2 <- rbindlist(l, use.names=TRUE, fill=TRUE)\n",
        "#df2 <- df2[,-1] \n",
        "nrow(df2)"
      ],
      "metadata": {
        "colab": {
          "base_uri": "https://localhost:8080/"
        },
        "id": "aCytGRARnL80",
        "outputId": "ec0d64c6-39ce-4087-ec65-10c9cf9b55ff"
      },
      "execution_count": 22,
      "outputs": [
        {
          "output_type": "stream",
          "name": "stdout",
          "text": [
            "[1] 21016274\n"
          ]
        }
      ]
    },
    {
      "cell_type": "code",
      "source": [
        "%%R\n",
        "fnameout = \"/content/drive/MyDrive/Regeneron_STS_2023/Model/Input_Data/AnnotatedFeaturesBellenguez_CADD_FATHMM_FULL.gz\"\n",
        "print(fnameout)\n",
        "write.table(df2, fnameout, quote = F, sep=\"\\t\", col.names = NA, row.names = T)"
      ],
      "metadata": {
        "colab": {
          "base_uri": "https://localhost:8080/"
        },
        "id": "zPpABOTQnL5_",
        "outputId": "7b8c493f-627b-4d2b-ae4c-3cff5344d401"
      },
      "execution_count": 23,
      "outputs": [
        {
          "output_type": "stream",
          "name": "stdout",
          "text": [
            "[1] \"/content/drive/MyDrive/Regeneron_STS_2023/Model/Input_Data/AnnotatedFeaturesBellenguez_CADD_FATHMM_FULL.gz\"\n"
          ]
        }
      ]
    },
    {
      "cell_type": "code",
      "source": [
        "%%R\n",
        "rm(df)\n",
        "rm(s)\n",
        "rm(AnnotatedFeaturesBellenguez)"
      ],
      "metadata": {
        "id": "QFsvSnmSnL2_"
      },
      "execution_count": 24,
      "outputs": []
    },
    {
      "cell_type": "code",
      "source": [
        "%%R\n",
        "#library(data.table)\n",
        "#fname = \"/content/drive/MyDrive/Regeneron_STS_2023/Model/Input_Data/AnnotatedFeaturesBellenguez_CADD_FATHMM_FULL.gz\"\n",
        "#df2 <- fread(fname, showProgress = FALSE)\n",
        "nrow(df2) #21016274"
      ],
      "metadata": {
        "colab": {
          "base_uri": "https://localhost:8080/"
        },
        "id": "jGLN77C2nLz9",
        "outputId": "62f60281-d13a-4879-9490-568e51ee9b2c"
      },
      "execution_count": 25,
      "outputs": [
        {
          "output_type": "stream",
          "name": "stdout",
          "text": [
            "[1] 21016274\n"
          ]
        }
      ]
    },
    {
      "cell_type": "code",
      "source": [
        "%%R\n",
        "df2 <- df2[,-1] \n",
        "head(df2)"
      ],
      "metadata": {
        "id": "CbVII1UNGNyV"
      },
      "execution_count": null,
      "outputs": []
    },
    {
      "cell_type": "code",
      "source": [
        "%%R\n",
        "dfld <- data.frame(matrix(ncol = 2, nrow = 0))\n",
        "x <- c(\"Key\", \"ld_sum_final\")\n",
        "colnames(dfld) <- x"
      ],
      "metadata": {
        "id": "z5OKDar4nLxD"
      },
      "execution_count": null,
      "outputs": []
    },
    {
      "cell_type": "code",
      "source": [],
      "metadata": {
        "id": "ismbDaas5EEh"
      },
      "execution_count": null,
      "outputs": []
    },
    {
      "cell_type": "code",
      "source": [],
      "metadata": {
        "id": "-yO_4b2B5EA8"
      },
      "execution_count": null,
      "outputs": []
    },
    {
      "cell_type": "code",
      "source": [],
      "metadata": {
        "id": "hqfjg7KR5D-O"
      },
      "execution_count": null,
      "outputs": []
    },
    {
      "cell_type": "code",
      "source": [],
      "metadata": {
        "id": "73ZvE8bv5D7X"
      },
      "execution_count": null,
      "outputs": []
    },
    {
      "cell_type": "code",
      "source": [],
      "metadata": {
        "id": "9FUrxYKR5D4l"
      },
      "execution_count": null,
      "outputs": []
    },
    {
      "cell_type": "code",
      "source": [],
      "metadata": {
        "id": "kCYBgQXo5Duj"
      },
      "execution_count": null,
      "outputs": []
    },
    {
      "cell_type": "code",
      "source": [],
      "metadata": {
        "id": "Izc5nfm-5DrA"
      },
      "execution_count": null,
      "outputs": []
    },
    {
      "cell_type": "code",
      "source": [],
      "metadata": {
        "id": "OcYNxfCL5DoN"
      },
      "execution_count": null,
      "outputs": []
    },
    {
      "cell_type": "code",
      "source": [],
      "metadata": {
        "id": "3xMLT75h5DlT"
      },
      "execution_count": null,
      "outputs": []
    },
    {
      "cell_type": "markdown",
      "source": [
        "LJoin with chrNN.out.BED_CADD_FATHMM.gz to get CADD and FATHMM scores\n",
        "Join with chrNN_final.csv AND chrNN_ld_known.csv to get ld_sum_final AND ld_sum_known"
      ],
      "metadata": {
        "id": "0t2ns5y9CdKs"
      }
    },
    {
      "cell_type": "code",
      "source": [],
      "metadata": {
        "id": "mWPduzAj979C"
      },
      "execution_count": null,
      "outputs": []
    },
    {
      "cell_type": "code",
      "source": [],
      "metadata": {
        "id": "LRTNnBtQ976H"
      },
      "execution_count": null,
      "outputs": []
    },
    {
      "cell_type": "code",
      "source": [],
      "metadata": {
        "id": "gr0cgeE9973Y"
      },
      "execution_count": null,
      "outputs": []
    },
    {
      "cell_type": "code",
      "source": [],
      "metadata": {
        "id": "yN3Thsb3970Y"
      },
      "execution_count": null,
      "outputs": []
    }
  ]
}